{
  "nbformat": 4,
  "nbformat_minor": 0,
  "metadata": {
    "colab": {
      "provenance": [],
      "authorship_tag": "ABX9TyP7Py9brQk+9Hc8UpQj6uVM",
      "include_colab_link": true
    },
    "kernelspec": {
      "name": "python3",
      "display_name": "Python 3"
    },
    "language_info": {
      "name": "python"
    }
  },
  "cells": [
    {
      "cell_type": "markdown",
      "metadata": {
        "id": "view-in-github",
        "colab_type": "text"
      },
      "source": [
        "<a href=\"https://colab.research.google.com/github/kiriotheo/hangman/blob/main/hangman.ipynb\" target=\"_parent\"><img src=\"https://colab.research.google.com/assets/colab-badge.svg\" alt=\"Open In Colab\"/></a>"
      ]
    },
    {
      "cell_type": "code",
      "execution_count": 6,
      "metadata": {
        "colab": {
          "base_uri": "https://localhost:8080/"
        },
        "id": "Cm70IVJMdADM",
        "outputId": "58b11b2b-9037-48d1-ed4d-e760ab69c478"
      },
      "outputs": [
        {
          "output_type": "stream",
          "name": "stdout",
          "text": [
            "New game started... your word is 6 characters long\n",
            "To exit the game at any point, type 'exit'\n",
            "_ _ _ _ _ _ \n",
            "Clue: Not from around here...\n",
            "Enter a letter: c\n",
            "You are correct!\n",
            "_ _ _ _ _ _\n",
            "Enter a letter: r\n",
            "Sorry... you have 6 lives left. Try again!\n",
            "Enter a letter: i\n",
            "You are correct!\n",
            "_ _ _ _ _ _\n",
            "Enter a letter: r\n",
            "Sorry... you have 5 lives left. Try again!\n",
            "Enter a letter: o\n",
            "You are correct!\n",
            "_ _ _ _ _ _\n",
            "Enter a letter: q\n",
            "Sorry... you have 4 lives left. Try again!\n",
            "Enter a letter: r\n",
            "Sorry... you have 3 lives left. Try again!\n",
            "Enter a letter: o\n",
            "You are correct!\n",
            "_ _ _ _ _ _\n",
            "Enter a letter: f\n",
            "Sorry... you have 2 lives left. Try again!\n",
            "Enter a letter: f\n",
            "Sorry... you have 1 lives left. Try again!\n",
            "Enter a letter: e\n",
            "You are correct!\n",
            "_ _ _ _ _ _\n",
            "Enter a letter: c\n",
            "You are correct!\n",
            "_ _ _ _ _ _\n",
            "Enter a letter: l\n",
            "Sorry... you have 0 lives left. Try again!\n",
            "Game over... better luck next time!\n"
          ]
        }
      ],
      "source": [
        "import random\n",
        "\n",
        "class Hangman:\n",
        "\n",
        "    words = [\n",
        "        [\"cricket\", \"A game played by gentlemen\"],\n",
        "        [\"jogging\", \"We are not walking...\"],\n",
        "        [\"celebrate\", \"Remembering special moments\"],\n",
        "        [\"continent\", \"There are 7 of these\"],\n",
        "        [\"exotic\", \"Not from around here...\"],\n",
        "    ]\n",
        "\n",
        "    def __init__(self):\n",
        "        self.word = random.choice(Hangman.words)\n",
        "        self.lives = 7\n",
        "        self.word_teaser = \"_ \" * len(self.word[0])\n",
        "\n",
        "    def print_teaser(self, last_guess=None):\n",
        "        self.update_teaser(last_guess) if last_guess is not None else None\n",
        "        print(self.word_teaser)\n",
        "\n",
        "    def update_teaser(self, last_guess):\n",
        "        new_teaser = list(self.word_teaser.split())\n",
        "\n",
        "        for index, letter in enumerate(self.word[0]):\n",
        "            if letter == '_' and letter == last_guess:\n",
        "                new_teaser[index] = last_guess\n",
        "\n",
        "        self.word_teaser = ' '.join(new_teaser)\n",
        "\n",
        "    def make_guess(self):\n",
        "        if self.lives > 0:\n",
        "            guess = input(\"Enter a letter: \")\n",
        "\n",
        "            if guess == \"exit\":\n",
        "                print(\"Thank you for playing!\")\n",
        "            elif len(guess) != 1:\n",
        "                print(\"Only guess 1 letter at a time, please!\")\n",
        "                self.make_guess()\n",
        "            elif guess in self.word[0]:\n",
        "                print(\"You are correct!\")\n",
        "                self.print_teaser(guess)\n",
        "\n",
        "                if self.word[0] == ''.join(self.word_teaser.split()):\n",
        "                    print(\"Congratulations... you have won this round!\")\n",
        "                else:\n",
        "                    self.make_guess()\n",
        "            else:\n",
        "                self.lives -= 1\n",
        "                print(f\"Sorry... you have {self.lives} lives left. Try again!\")\n",
        "                self.make_guess()\n",
        "        else:\n",
        "            print(\"Game over... better luck next time!\")\n",
        "\n",
        "    def begin(self):\n",
        "        print(f\"New game started... your word is {len(self.word[0])} characters long\")\n",
        "        print(\"To exit the game at any point, type 'exit'\")\n",
        "        self.print_teaser()\n",
        "        print(f\"Clue: {self.word[1]}\")\n",
        "\n",
        "        self.make_guess()\n",
        "\n",
        "game = Hangman()\n",
        "game.begin()\n"
      ]
    }
  ]
}